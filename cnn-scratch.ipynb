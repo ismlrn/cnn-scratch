{
 "cells": [
  {
   "cell_type": "code",
   "execution_count": null,
   "id": "39c2232d-ac1c-4671-b814-b201c0dad94f",
   "metadata": {},
   "outputs": [],
   "source": [
    "#%%\n",
    "\n",
    "import numpy as np\n",
    "\n",
    "# for simplicity, i'll use a 1x1x8x8 input image only\n",
    "# Batch size = 1 Channels = 1 Height = 8 Width = 8"
   ]
  },
  {
   "cell_type": "code",
   "execution_count": null,
   "id": "b2a469a4-1b2d-433d-a75f-88c647d1cb3a",
   "metadata": {},
   "outputs": [
    {
     "name": "stdout",
     "output_type": "stream",
     "text": [
      "Input shape: (1, 1, 8, 8)\n"
     ]
    }
   ],
   "source": [
    "#%%\n",
    "\n",
    "np.random.seed(42)\n",
    "input_image = np.random.rand(1, 1, 8, 8)\n",
    "\n",
    "print(\"Input shape:\", input_image.shape)"
   ]
  },
  {
   "cell_type": "code",
   "execution_count": null,
   "id": "aac163d7-3722-4365-9f39-f934add3ad4a",
   "metadata": {},
   "outputs": [],
   "source": [
    "# %%\n",
    "\n",
    "# adding convolution layer with no padding and stride = 1\n",
    "def conv2d(X, kernel, stride=1):\n",
    "    B, C, H, W = X.shape\n",
    "    _, _, KH, KW = kernel.shape\n",
    "    out_h = (H - KH) // stride + 1\n",
    "    out_w = (W - KW) // stride + 1\n",
    "\n",
    "    out = np.zeros((B, 1, out_h, out_w))\n",
    "\n",
    "    for b in range(B):\n",
    "        for i in range(0, out_h):\n",
    "            for j in range(0, out_w):\n",
    "                region = X[b, 0, i:i+KH, j:j+KW]\n",
    "                out[b, 0, i, j] = np.sum(region * kernel[0, 0])\n",
    "    return out"
   ]
  }
 ],
 "metadata": {
  "language_info": {
   "codemirror_mode": {
    "name": "ipython",
    "version": 3
   },
   "file_extension": ".py",
   "mimetype": "text/x-python",
   "name": "python",
   "nbconvert_exporter": "python",
   "pygments_lexer": "ipython3",
   "version": 3
  }
 },
 "nbformat": 4,
 "nbformat_minor": 2
}
