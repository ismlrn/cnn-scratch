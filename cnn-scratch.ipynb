{
 "cells": [
  {
   "cell_type": "code",
   "execution_count": null,
   "id": "39c2232d-ac1c-4671-b814-b201c0dad94f",
   "metadata": {},
   "outputs": [],
   "source": [
    "#%%\n",
    "\n",
    "import numpy as np\n",
    "\n",
    "# for simplicity, i'll use a 1x1x8x8 input image only\n",
    "# Batch size = 1 Channels = 1 Height = 8 Width = 8"
   ]
  },
  {
   "cell_type": "code",
   "execution_count": null,
   "id": "b2a469a4-1b2d-433d-a75f-88c647d1cb3a",
   "metadata": {},
   "outputs": [
    {
     "name": "stdout",
     "output_type": "stream",
     "text": [
      "Input shape: (1, 1, 8, 8)\n"
     ]
    }
   ],
   "source": [
    "#%%\n",
    "\n",
    "np.random.seed(42)\n",
    "input_image = np.random.rand(1, 1, 8, 8)\n",
    "\n",
    "print(\"Input shape:\", input_image.shape)"
   ]
  }
 ],
 "metadata": {
  "language_info": {
   "codemirror_mode": {
    "name": "ipython",
    "version": 3
   },
   "file_extension": ".py",
   "mimetype": "text/x-python",
   "name": "python",
   "nbconvert_exporter": "python",
   "pygments_lexer": "ipython3",
   "version": 3
  }
 },
 "nbformat": 4,
 "nbformat_minor": 2
}
