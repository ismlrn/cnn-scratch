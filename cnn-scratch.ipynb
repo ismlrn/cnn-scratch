{
 "cells": [
  {
   "cell_type": "code",
   "execution_count": null,
   "id": "39c2232d-ac1c-4671-b814-b201c0dad94f",
   "metadata": {},
   "outputs": [],
   "source": [
    "#%%\n",
    "\n",
    "import numpy as np\n",
    "\n",
    "# for simplicity, i'll use a 1x1x8x8 input image only\n",
    "# Batch size = 1 Channels = 1 Height = 8 Width = 8"
   ]
  },
  {
   "cell_type": "code",
   "execution_count": null,
   "id": "b2a469a4-1b2d-433d-a75f-88c647d1cb3a",
   "metadata": {},
   "outputs": [
    {
     "name": "stdout",
     "output_type": "stream",
     "text": [
      "Input shape: (1, 1, 8, 8)\n"
     ]
    }
   ],
   "source": [
    "#%%\n",
    "\n",
    "np.random.seed(42)\n",
    "input_image = np.random.rand(1, 1, 8, 8)\n",
    "\n",
    "print(\"Input shape:\", input_image.shape)"
   ]
  },
  {
   "cell_type": "code",
   "execution_count": null,
   "id": "aac163d7-3722-4365-9f39-f934add3ad4a",
   "metadata": {},
   "outputs": [],
   "source": [
    "# %%\n",
    "\n",
    "# adding convolution layer with no padding and stride = 1\n",
    "def conv2d(X, kernel, stride=1):\n",
    "    B, C, H, W = X.shape\n",
    "    _, _, KH, KW = kernel.shape\n",
    "    out_h = (H - KH) // stride + 1\n",
    "    out_w = (W - KW) // stride + 1\n",
    "\n",
    "    out = np.zeros((B, 1, out_h, out_w))\n",
    "\n",
    "    for b in range(B):\n",
    "        for i in range(0, out_h):\n",
    "            for j in range(0, out_w):\n",
    "                region = X[b, 0, i:i+KH, j:j+KW]\n",
    "                out[b, 0, i, j] = np.sum(region * kernel[0, 0])\n",
    "    return out"
   ]
  },
  {
   "cell_type": "code",
   "execution_count": null,
   "id": "21e7c501-2641-463d-b430-cbf9051b6b5f",
   "metadata": {},
   "outputs": [
    {
     "name": "stdout",
     "output_type": "stream",
     "text": [
      "Conv output shape: (1, 1, 6, 6)\n"
     ]
    }
   ],
   "source": [
    "# %%\n",
    "\n",
    "# creating a 3*3 filter with random values\n",
    "kernel = np.array([[[[1, 0, -1],\n",
    "                     [1, 0, -1],\n",
    "                     [1, 0, -1]]]])  # shape (1, 1, 3, 3)\n",
    "\n",
    "conv_out = conv2d(input_image, kernel)\n",
    "# the output shape is (1, 1, 6, 6)\n",
    "print(\"Conv output shape:\", conv_out.shape)"
   ]
  },
  {
   "cell_type": "code",
   "execution_count": null,
   "id": "cdc6f3fe-efa4-4c27-a0bc-09530bee8deb",
   "metadata": {},
   "outputs": [],
   "source": [
    "# %%\n",
    "\n",
    "# applying relu activation\n",
    "def relu(X):\n",
    "    return np.maximum(0, X)\n",
    "\n",
    "relu_out = relu(conv_out)"
   ]
  },
  {
   "cell_type": "code",
   "execution_count": null,
   "id": "f1fcbccc-a401-4173-88ae-388d0d9780c0",
   "metadata": {},
   "outputs": [
    {
     "name": "stdout",
     "output_type": "stream",
     "text": [
      "Pooled shape: (1, 1, 3, 3)\n"
     ]
    }
   ],
   "source": [
    "# %%\n",
    "\n",
    "# applying maxpooling with a size of 2 and stride = 2\n",
    "def maxpool2d(X, size=2, stride=2):\n",
    "    B, C, H, W = X.shape\n",
    "    out_h = H // size\n",
    "    out_w = W // size\n",
    "    out = np.zeros((B, C, out_h, out_w))\n",
    "\n",
    "    for b in range(B):\n",
    "        for c in range(C):\n",
    "            for i in range(out_h):\n",
    "                for j in range(out_w):\n",
    "                    region = X[b, c, i*stride:i*stride+size, j*stride:j*stride+size]\n",
    "                    out[b, c, i, j] = np.max(region)\n",
    "    return out\n",
    "\n",
    "pool_out = maxpool2d(relu_out)\n",
    "# the output shape is (1, 1, 3, 3)\n",
    "print(\"Pooled shape:\", pool_out.shape)"
   ]
  },
  {
   "cell_type": "code",
   "execution_count": null,
   "id": "0c126145-70a8-45a5-99d5-403cf3405cd6",
   "metadata": {},
   "outputs": [
    {
     "name": "stdout",
     "output_type": "stream",
     "text": [
      "Flattened: (1, 9)\n"
     ]
    }
   ],
   "source": [
    "# %%\n",
    "\n",
    "# flattening the output\n",
    "def flatten(X):\n",
    "    return X.reshape(X.shape[0], -1)\n",
    "\n",
    "flat = flatten(pool_out)\n",
    "# the output shape is (1, 9)\n",
    "print(\"Flattened:\", flat.shape)"
   ]
  },
  {
   "cell_type": "code",
   "execution_count": null,
   "id": "1740278a-9bb0-4fa5-9d2e-cb51caed0270",
   "metadata": {},
   "outputs": [],
   "source": [
    "# %%\n",
    "\n",
    "# adding a dense layer with random weights and bias\n",
    "def dense(X, weights, bias):\n",
    "    return X @ weights + bias\n",
    "\n",
    "W = np.random.randn(flat.shape[1], 2)  # output size = 2\n",
    "b = np.random.randn(2)\n",
    "\n",
    "fc_out = dense(flat, W, b)"
   ]
  },
  {
   "cell_type": "code",
   "execution_count": null,
   "id": "13c27131-bdf6-40f7-a941-3945b45b8347",
   "metadata": {},
   "outputs": [
    {
     "name": "stdout",
     "output_type": "stream",
     "text": [
      "Probabilities: [[0.35125087 0.64874913]]\n"
     ]
    }
   ],
   "source": [
    "# %%\n",
    "\n",
    "# adding softmax activation for classification\n",
    "def softmax(X):\n",
    "    e_x = np.exp(X - np.max(X, axis=1, keepdims=True))\n",
    "    return e_x / np.sum(e_x, axis=1, keepdims=True)\n",
    "\n",
    "probs = softmax(fc_out)\n",
    "# the output shape is (1, 2) obviously\n",
    "print(\"Probabilities:\", probs)"
   ]
  }
 ],
 "metadata": {
  "language_info": {
   "codemirror_mode": {
    "name": "ipython",
    "version": 3
   },
   "file_extension": ".py",
   "mimetype": "text/x-python",
   "name": "python",
   "nbconvert_exporter": "python",
   "pygments_lexer": "ipython3",
   "version": 3
  }
 },
 "nbformat": 4,
 "nbformat_minor": 2
}
