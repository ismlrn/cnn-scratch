{
 "cells": [
  {
   "cell_type": "code",
   "execution_count": null,
   "id": "356d4f06-58c6-4814-9a81-393777198edb",
   "metadata": {},
   "outputs": [],
   "source": [
    "#%%\n",
    "\n",
    "import numpy as np\n",
    "\n",
    "# random input\n",
    "X = np.array([[1, 2, 0],\n",
    "              [3, 4, 1],\n",
    "              [1, 2, 0]])\n",
    "\n",
    "# random weights\n",
    "W = np.array([[1, -1],\n",
    "              [0, 1]])\n",
    "\n",
    "# all ones target for MSE loss\n",
    "target = np.ones((2, 2))  # MSE target"
   ]
  },
  {
   "cell_type": "code",
   "execution_count": null,
   "id": "11d02619-fc47-44bd-8908-a04d1915f5ab",
   "metadata": {},
   "outputs": [],
   "source": [
    "#%%\n",
    "\n",
    "# convolution layer\n",
    "def conv2d(X, W):\n",
    "    out = np.zeros((X.shape[0] - W.shape[0] + 1,\n",
    "                    X.shape[1] - W.shape[1] + 1))\n",
    "    for i in range(out.shape[0]):\n",
    "        for j in range(out.shape[1]):\n",
    "            region = X[i:i+W.shape[0], j:j+W.shape[1]]\n",
    "            out[i, j] = np.sum(region * W)\n",
    "    return out\n",
    "\n",
    "def relu(X):\n",
    "    return np.maximum(0, X)"
   ]
  },
  {
   "cell_type": "code",
   "execution_count": null,
   "id": "7a954128-6cea-43c9-b7f7-e9381fa61128",
   "metadata": {},
   "outputs": [],
   "source": [
    "#%%\n",
    "\n",
    "# loss function\n",
    "def mse_loss(pred, target):\n",
    "    return np.mean((pred - target)**2)"
   ]
  },
  {
   "cell_type": "code",
   "execution_count": null,
   "id": "39386eb5-d79f-4f2b-b4c6-edac4a2c5c23",
   "metadata": {},
   "outputs": [
    {
     "name": "stdout",
     "output_type": "stream",
     "text": [
      "Forward Output (A):\n",
      " [[3. 3.]\n",
      " [1. 3.]]\n",
      "Loss: 3.0\n"
     ]
    }
   ],
   "source": [
    "#%%\n",
    "\n",
    "Z = conv2d(X, W)           # (2, 2)\n",
    "A = relu(Z)                \n",
    "loss = mse_loss(A, target)\n",
    "\n",
    "print(\"Forward Output (A):\\n\", A)\n",
    "print(\"Loss:\", loss)"
   ]
  },
  {
   "cell_type": "code",
   "execution_count": null,
   "id": "06dbcaff-33fc-4475-88d1-d77bdba3ce14",
   "metadata": {},
   "outputs": [
    {
     "name": "stdout",
     "output_type": "stream",
     "text": [
      "Gradient dW:\n",
      " [[7. 3.]\n",
      " [9. 5.]]\n"
     ]
    }
   ],
   "source": [
    "# %%\n",
    "\n",
    "dA = 2 * (A - target) / target.size\n",
    "dZ = dA * (Z > 0).astype(float)\n",
    "\n",
    "def conv2d_backward(X, dZ, W_shape):\n",
    "    dW = np.zeros(W_shape)\n",
    "    for i in range(dZ.shape[0]):\n",
    "        for j in range(dZ.shape[1]):\n",
    "            region = X[i:i+W_shape[0], j:j+W_shape[1]]\n",
    "            dW += dZ[i, j] * region\n",
    "    return dW\n",
    "\n",
    "dW = conv2d_backward(X, dZ, W.shape)\n",
    "print(\"Gradient dW:\\n\", dW)"
   ]
  }
 ],
 "metadata": {
  "language_info": {
   "codemirror_mode": {
    "name": "ipython",
    "version": 3
   },
   "file_extension": ".py",
   "mimetype": "text/x-python",
   "name": "python",
   "nbconvert_exporter": "python",
   "pygments_lexer": "ipython3",
   "version": 3
  }
 },
 "nbformat": 4,
 "nbformat_minor": 2
}
